{
 "cells": [
  {
   "cell_type": "code",
   "execution_count": 54,
   "metadata": {},
   "outputs": [],
   "source": [
    "import pandas as pd"
   ]
  },
  {
   "cell_type": "markdown",
   "metadata": {},
   "source": [
    "## GBIF Dataset\n",
    "We clean the dataset by removing unnecessary columns and removing all NA values as well as duplicate rows. We also only keep mushrooms for the genus we have pictures of. Since Kingdom, Phylum, and Class all have the same value at the end of the clean, we remove those columns as well since they only enlarge the data unnecessarily."
   ]
  },
  {
   "cell_type": "code",
   "execution_count": 55,
   "metadata": {},
   "outputs": [
    {
     "name": "stderr",
     "output_type": "stream",
     "text": [
      "/var/folders/12/w6sy18kn02z3rqybsvv_x84r0000gn/T/ipykernel_68656/2382710439.py:1: DtypeWarning: Columns (45) have mixed types. Specify dtype option on import or set low_memory=False.\n",
      "  gbif: pd.DataFrame = pd.read_csv('./data/gbif.csv')\n"
     ]
    }
   ],
   "source": [
    "gbif: pd.DataFrame = pd.read_csv('./data/gbif.csv')"
   ]
  },
  {
   "cell_type": "code",
   "execution_count": 56,
   "metadata": {},
   "outputs": [],
   "source": [
    "drop: list = [\"gbifID\", \"datasetKey\", \"occurrenceID\", \"verbatimScientificNameAuthorship\", \"stateProvince\", \n",
    "\"occurrenceStatus\", \"individualCount\", \"publishingOrgKey\", \"coordinatePrecision\", \"elevation\", \"elevationAccuracy\", \n",
    "\"depth\", \"depthAccuracy\", \"basisOfRecord\", \"institutionCode\", \"collectionCode\", \"catalogNumber\", \"recordNumber\", \n",
    "\"identifiedBy\", \"dateIdentified\", \"license\", \"rightsHolder\", \"recordedBy\", \"typeStatus\", \"establishmentMeans\", \n",
    "\"lastInterpreted\", \"mediaType\", \"issue\", \"coordinateUncertaintyInMeters\", \"eventDate\", \"day\", \"month\", \"year\", \"speciesKey\", \"taxonKey\"]\n",
    "gbif.drop(drop, axis = 1, inplace = True)"
   ]
  },
  {
   "cell_type": "code",
   "execution_count": 57,
   "metadata": {},
   "outputs": [],
   "source": [
    "gbif = gbif.dropna()\n",
    "gbif = gbif.drop_duplicates()"
   ]
  },
  {
   "cell_type": "code",
   "execution_count": 58,
   "metadata": {},
   "outputs": [],
   "source": [
    "keep: list = ['Amanita', 'Cortinarius', 'Russula', 'Entoloma', 'Hygrocybe', 'Lactarius', 'Suillus']\n",
    "gbif = gbif[gbif.genus.isin(keep)]\n",
    "gbif = gbif.reset_index(drop = True)\n",
    "gbif['uniqueID'] = gbif.index"
   ]
  },
  {
   "cell_type": "code",
   "execution_count": 59,
   "metadata": {},
   "outputs": [
    {
     "data": {
      "text/html": [
       "<div>\n",
       "<style scoped>\n",
       "    .dataframe tbody tr th:only-of-type {\n",
       "        vertical-align: middle;\n",
       "    }\n",
       "\n",
       "    .dataframe tbody tr th {\n",
       "        vertical-align: top;\n",
       "    }\n",
       "\n",
       "    .dataframe thead th {\n",
       "        text-align: right;\n",
       "    }\n",
       "</style>\n",
       "<table border=\"1\" class=\"dataframe\">\n",
       "  <thead>\n",
       "    <tr style=\"text-align: right;\">\n",
       "      <th></th>\n",
       "      <th>kingdom</th>\n",
       "      <th>phylum</th>\n",
       "      <th>class</th>\n",
       "      <th>order</th>\n",
       "      <th>family</th>\n",
       "      <th>genus</th>\n",
       "      <th>species</th>\n",
       "      <th>infraspecificEpithet</th>\n",
       "      <th>taxonRank</th>\n",
       "      <th>scientificName</th>\n",
       "      <th>verbatimScientificName</th>\n",
       "      <th>countryCode</th>\n",
       "      <th>locality</th>\n",
       "      <th>decimalLatitude</th>\n",
       "      <th>decimalLongitude</th>\n",
       "      <th>uniqueID</th>\n",
       "    </tr>\n",
       "  </thead>\n",
       "  <tbody>\n",
       "    <tr>\n",
       "      <th>0</th>\n",
       "      <td>Fungi</td>\n",
       "      <td>Basidiomycota</td>\n",
       "      <td>Agaricomycetes</td>\n",
       "      <td>Agaricales</td>\n",
       "      <td>Amanitaceae</td>\n",
       "      <td>Amanita</td>\n",
       "      <td>Amanita rubescens</td>\n",
       "      <td>rubescens</td>\n",
       "      <td>VARIETY</td>\n",
       "      <td>Amanita rubescens var. rubescens</td>\n",
       "      <td>Amanita rubescens var. rubescens (Pers.) Gray</td>\n",
       "      <td>DK</td>\n",
       "      <td>Lundsgård Storskov</td>\n",
       "      <td>55.43561</td>\n",
       "      <td>10.68910</td>\n",
       "      <td>0</td>\n",
       "    </tr>\n",
       "    <tr>\n",
       "      <th>1</th>\n",
       "      <td>Fungi</td>\n",
       "      <td>Basidiomycota</td>\n",
       "      <td>Agaricomycetes</td>\n",
       "      <td>Agaricales</td>\n",
       "      <td>Amanitaceae</td>\n",
       "      <td>Amanita</td>\n",
       "      <td>Amanita rubescens</td>\n",
       "      <td>rubescens</td>\n",
       "      <td>VARIETY</td>\n",
       "      <td>Amanita rubescens var. rubescens</td>\n",
       "      <td>Amanita rubescens var. rubescens (Pers.) Gray</td>\n",
       "      <td>DK</td>\n",
       "      <td>Grevsmose</td>\n",
       "      <td>57.27064</td>\n",
       "      <td>10.19545</td>\n",
       "      <td>1</td>\n",
       "    </tr>\n",
       "    <tr>\n",
       "      <th>2</th>\n",
       "      <td>Fungi</td>\n",
       "      <td>Basidiomycota</td>\n",
       "      <td>Agaricomycetes</td>\n",
       "      <td>Agaricales</td>\n",
       "      <td>Amanitaceae</td>\n",
       "      <td>Amanita</td>\n",
       "      <td>Amanita rubescens</td>\n",
       "      <td>rubescens</td>\n",
       "      <td>VARIETY</td>\n",
       "      <td>Amanita rubescens var. rubescens</td>\n",
       "      <td>Amanita rubescens var. rubescens (Pers.) Gray</td>\n",
       "      <td>DK</td>\n",
       "      <td>Torstedlund Skov</td>\n",
       "      <td>56.79856</td>\n",
       "      <td>9.75412</td>\n",
       "      <td>2</td>\n",
       "    </tr>\n",
       "    <tr>\n",
       "      <th>3</th>\n",
       "      <td>Fungi</td>\n",
       "      <td>Basidiomycota</td>\n",
       "      <td>Agaricomycetes</td>\n",
       "      <td>Agaricales</td>\n",
       "      <td>Amanitaceae</td>\n",
       "      <td>Amanita</td>\n",
       "      <td>Amanita rubescens</td>\n",
       "      <td>rubescens</td>\n",
       "      <td>VARIETY</td>\n",
       "      <td>Amanita rubescens var. rubescens</td>\n",
       "      <td>Amanita rubescens var. rubescens (Pers.) Gray</td>\n",
       "      <td>DK</td>\n",
       "      <td>Grønholt Hegn</td>\n",
       "      <td>55.93501</td>\n",
       "      <td>12.38527</td>\n",
       "      <td>3</td>\n",
       "    </tr>\n",
       "    <tr>\n",
       "      <th>4</th>\n",
       "      <td>Fungi</td>\n",
       "      <td>Basidiomycota</td>\n",
       "      <td>Agaricomycetes</td>\n",
       "      <td>Agaricales</td>\n",
       "      <td>Amanitaceae</td>\n",
       "      <td>Amanita</td>\n",
       "      <td>Amanita vaginata</td>\n",
       "      <td>vaginata</td>\n",
       "      <td>VARIETY</td>\n",
       "      <td>Amanita vaginata var. vaginata</td>\n",
       "      <td>Amanita vaginata var. vaginata (Bull.) Fr.</td>\n",
       "      <td>DK</td>\n",
       "      <td>Store Hareskov</td>\n",
       "      <td>55.77313</td>\n",
       "      <td>12.41414</td>\n",
       "      <td>4</td>\n",
       "    </tr>\n",
       "  </tbody>\n",
       "</table>\n",
       "</div>"
      ],
      "text/plain": [
       "  kingdom         phylum           class       order       family    genus  \\\n",
       "0   Fungi  Basidiomycota  Agaricomycetes  Agaricales  Amanitaceae  Amanita   \n",
       "1   Fungi  Basidiomycota  Agaricomycetes  Agaricales  Amanitaceae  Amanita   \n",
       "2   Fungi  Basidiomycota  Agaricomycetes  Agaricales  Amanitaceae  Amanita   \n",
       "3   Fungi  Basidiomycota  Agaricomycetes  Agaricales  Amanitaceae  Amanita   \n",
       "4   Fungi  Basidiomycota  Agaricomycetes  Agaricales  Amanitaceae  Amanita   \n",
       "\n",
       "             species infraspecificEpithet taxonRank  \\\n",
       "0  Amanita rubescens            rubescens   VARIETY   \n",
       "1  Amanita rubescens            rubescens   VARIETY   \n",
       "2  Amanita rubescens            rubescens   VARIETY   \n",
       "3  Amanita rubescens            rubescens   VARIETY   \n",
       "4   Amanita vaginata             vaginata   VARIETY   \n",
       "\n",
       "                     scientificName  \\\n",
       "0  Amanita rubescens var. rubescens   \n",
       "1  Amanita rubescens var. rubescens   \n",
       "2  Amanita rubescens var. rubescens   \n",
       "3  Amanita rubescens var. rubescens   \n",
       "4    Amanita vaginata var. vaginata   \n",
       "\n",
       "                          verbatimScientificName countryCode  \\\n",
       "0  Amanita rubescens var. rubescens (Pers.) Gray          DK   \n",
       "1  Amanita rubescens var. rubescens (Pers.) Gray          DK   \n",
       "2  Amanita rubescens var. rubescens (Pers.) Gray          DK   \n",
       "3  Amanita rubescens var. rubescens (Pers.) Gray          DK   \n",
       "4     Amanita vaginata var. vaginata (Bull.) Fr.          DK   \n",
       "\n",
       "             locality  decimalLatitude  decimalLongitude  uniqueID  \n",
       "0  Lundsgård Storskov         55.43561          10.68910         0  \n",
       "1           Grevsmose         57.27064          10.19545         1  \n",
       "2    Torstedlund Skov         56.79856           9.75412         2  \n",
       "3       Grønholt Hegn         55.93501          12.38527         3  \n",
       "4      Store Hareskov         55.77313          12.41414         4  "
      ]
     },
     "execution_count": 59,
     "metadata": {},
     "output_type": "execute_result"
    }
   ],
   "source": [
    "gbif.head()"
   ]
  },
  {
   "cell_type": "code",
   "execution_count": 60,
   "metadata": {},
   "outputs": [
    {
     "data": {
      "text/plain": [
       "Fungi    12188\n",
       "Name: kingdom, dtype: int64"
      ]
     },
     "execution_count": 60,
     "metadata": {},
     "output_type": "execute_result"
    }
   ],
   "source": [
    "gbif['kingdom'].value_counts()"
   ]
  },
  {
   "cell_type": "code",
   "execution_count": 61,
   "metadata": {},
   "outputs": [
    {
     "data": {
      "text/plain": [
       "Basidiomycota    12188\n",
       "Name: phylum, dtype: int64"
      ]
     },
     "execution_count": 61,
     "metadata": {},
     "output_type": "execute_result"
    }
   ],
   "source": [
    "gbif['phylum'].value_counts()"
   ]
  },
  {
   "cell_type": "code",
   "execution_count": 62,
   "metadata": {},
   "outputs": [
    {
     "data": {
      "text/plain": [
       "Agaricomycetes    12188\n",
       "Name: class, dtype: int64"
      ]
     },
     "execution_count": 62,
     "metadata": {},
     "output_type": "execute_result"
    }
   ],
   "source": [
    "gbif['class'].value_counts()"
   ]
  },
  {
   "cell_type": "code",
   "execution_count": 63,
   "metadata": {},
   "outputs": [
    {
     "data": {
      "text/plain": [
       "VARIETY    12067\n",
       "FORM         121\n",
       "Name: taxonRank, dtype: int64"
      ]
     },
     "execution_count": 63,
     "metadata": {},
     "output_type": "execute_result"
    }
   ],
   "source": [
    "gbif['taxonRank'].value_counts()"
   ]
  },
  {
   "cell_type": "code",
   "execution_count": 64,
   "metadata": {},
   "outputs": [],
   "source": [
    "locations: pd.DataFrame = gbif[['uniqueID', 'decimalLatitude', 'decimalLongitude']]\n",
    "locations.to_csv('./data/cleaned/locations.csv')\n",
    "\n",
    "# The entire database is\n",
    "# Kingdom: Fungi\n",
    "# Phylum: Basidiomycota\n",
    "# Class: Agaricomycetes\n",
    "drop = ['kingdom', 'phylum', 'class', 'decimalLatitude', 'decimalLongitude', 'taxonRank']\n",
    "gbif.drop(drop, axis = 1, inplace = True)\n",
    "gbif.to_csv('./data/cleaned/gbif.csv')"
   ]
  },
  {
   "cell_type": "code",
   "execution_count": 16,
   "metadata": {},
   "outputs": [],
   "source": [
    "import sqlite3\n",
    "import os"
   ]
  },
  {
   "cell_type": "code",
   "execution_count": 8,
   "metadata": {},
   "outputs": [],
   "source": [
    "connection = sqlite3.connect(\"./databases/images.db\")\n",
    "cursor = connection.cursor()\n",
    "cursor.execute(\"CREATE TABLE images(genus string, img blob)\")\n",
    "connection.commit()"
   ]
  },
  {
   "cell_type": "code",
   "execution_count": 11,
   "metadata": {},
   "outputs": [],
   "source": [
    "path = \"./data/Mushrooms/\"\n",
    "for directory in os.listdir(path):\n",
    "    if directory not in keep:\n",
    "        continue\n",
    "    \n",
    "    for filename in os.listdir(f\"{path}/{directory}/\"):\n",
    "        image = open(f\"{path}/{directory}/{filename}\", 'rb').read()\n",
    "        connection.execute(\"INSERT INTO images VALUES(?,?)\", (directory, sqlite3.Binary(image)))\n",
    "        connection.commit()\n",
    "\n",
    "connection.close()"
   ]
  }
 ],
 "metadata": {
  "kernelspec": {
   "display_name": "Python 3.8.9 64-bit",
   "language": "python",
   "name": "python3"
  },
  "language_info": {
   "codemirror_mode": {
    "name": "ipython",
    "version": 3
   },
   "file_extension": ".py",
   "mimetype": "text/x-python",
   "name": "python",
   "nbconvert_exporter": "python",
   "pygments_lexer": "ipython3",
   "version": "3.8.9"
  },
  "orig_nbformat": 4,
  "vscode": {
   "interpreter": {
    "hash": "31f2aee4e71d21fbe5cf8b01ff0e069b9275f58929596ceb00d14d90e3e16cd6"
   }
  }
 },
 "nbformat": 4,
 "nbformat_minor": 2
}
